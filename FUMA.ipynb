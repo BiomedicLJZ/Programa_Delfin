{
 "cells": [
  {
   "cell_type": "code",
   "execution_count": 1,
   "outputs": [],
   "source": [
    "import pandas as pd\n"
   ],
   "metadata": {
    "collapsed": false,
    "pycharm": {
     "name": "#%%\n"
    }
   }
  },
  {
   "cell_type": "code",
   "execution_count": 24,
   "outputs": [
    {
     "data": {
      "text/plain": "                                             Name  chromosome  \\\n0            SAMD11(ENSG00000187634).GENE.M1.0001           1   \n1             SAMD11(ENSG00000187634).GENE.M1.001           1   \n2              SAMD11(ENSG00000187634).GENE.M1.01           1   \n3               SAMD11(ENSG00000187634).GENE.M1.1           1   \n4       SAMD11(ENSG00000187634).GENE.M1.singleton           1   \n...                                           ...         ...   \n185260        SPRY3(ENSG00000168939).GENE.M3.0001          23   \n185261         SPRY3(ENSG00000168939).GENE.M3.001          23   \n185262          SPRY3(ENSG00000168939).GENE.M3.01          23   \n185263           SPRY3(ENSG00000168939).GENE.M3.1          23   \n185264   SPRY3(ENSG00000168939).GENE.M3.singleton          23   \n\n        base_pair_location other_allele effect_allele            Trait  \\\n0                   925941          ref       M1.0001  Phe10_F419__BIN   \n1                   925941          ref        M1.001  Phe10_F419__BIN   \n2                   925941          ref         M1.01  Phe10_F419__BIN   \n3                   925941          ref          M1.1  Phe10_F419__BIN   \n4                   925941          ref  M1.singleton  Phe10_F419__BIN   \n...                    ...          ...           ...              ...   \n185260           155773871          ref       M3.0001  Phe10_F419__BIN   \n185261           155773871          ref        M3.001  Phe10_F419__BIN   \n185262           155773871          ref         M3.01  Phe10_F419__BIN   \n185263           155773871          ref          M3.1  Phe10_F419__BIN   \n185264           155773871          ref  M3.singleton  Phe10_F419__BIN   \n\n                    Cohort          Model  odds_ratio  ci_lower  ci_upper  \\\n0       UKB_Freeze_450_EUR  ADD-WGR-FIRTH    0.776267  0.327508   1.83992   \n1       UKB_Freeze_450_EUR  ADD-WGR-FIRTH    1.436640  0.866632   2.38156   \n2       UKB_Freeze_450_EUR  ADD-WGR-FIRTH    1.364400  0.999524   1.86247   \n3       UKB_Freeze_450_EUR  ADD-WGR-FIRTH    1.070580  0.891329   1.28588   \n4       UKB_Freeze_450_EUR  ADD-WGR-FIRTH    1.606360  0.293426   8.79403   \n...                    ...            ...         ...       ...       ...   \n185260  UKB_Freeze_450_EUR  ADD-WGR-FIRTH    0.358989  0.022484   5.73179   \n185261  UKB_Freeze_450_EUR  ADD-WGR-FIRTH    1.182340  0.342287   4.08408   \n185262  UKB_Freeze_450_EUR  ADD-WGR-FIRTH    1.182340  0.342287   4.08408   \n185263  UKB_Freeze_450_EUR  ADD-WGR-FIRTH    1.182340  0.342287   4.08408   \n185264  UKB_Freeze_450_EUR  ADD-WGR-FIRTH    0.359353  0.003691  34.98790   \n\n         p_value  effect_allele_frequency  standard_error  \n0       0.565163                 0.000300        0.440305  \n1       0.160048                 0.000804        0.257887  \n2       0.050352                 0.001790        0.158774  \n3       0.465712                 0.007459        0.093493  \n4       0.584778                 0.000073        0.867415  \n...          ...                      ...             ...  \n185260  0.468606                 0.000030        1.413540  \n185261  0.791139                 0.000129        0.632461  \n185262  0.791139                 0.000129        0.632461  \n185263  0.791139                 0.000129        0.632461  \n185264  0.661297                 0.000012        2.335990  \n\n[185265 rows x 14 columns]",
      "text/html": "<div>\n<style scoped>\n    .dataframe tbody tr th:only-of-type {\n        vertical-align: middle;\n    }\n\n    .dataframe tbody tr th {\n        vertical-align: top;\n    }\n\n    .dataframe thead th {\n        text-align: right;\n    }\n</style>\n<table border=\"1\" class=\"dataframe\">\n  <thead>\n    <tr style=\"text-align: right;\">\n      <th></th>\n      <th>Name</th>\n      <th>chromosome</th>\n      <th>base_pair_location</th>\n      <th>other_allele</th>\n      <th>effect_allele</th>\n      <th>Trait</th>\n      <th>Cohort</th>\n      <th>Model</th>\n      <th>odds_ratio</th>\n      <th>ci_lower</th>\n      <th>ci_upper</th>\n      <th>p_value</th>\n      <th>effect_allele_frequency</th>\n      <th>standard_error</th>\n    </tr>\n  </thead>\n  <tbody>\n    <tr>\n      <th>0</th>\n      <td>SAMD11(ENSG00000187634).GENE.M1.0001</td>\n      <td>1</td>\n      <td>925941</td>\n      <td>ref</td>\n      <td>M1.0001</td>\n      <td>Phe10_F419__BIN</td>\n      <td>UKB_Freeze_450_EUR</td>\n      <td>ADD-WGR-FIRTH</td>\n      <td>0.776267</td>\n      <td>0.327508</td>\n      <td>1.83992</td>\n      <td>0.565163</td>\n      <td>0.000300</td>\n      <td>0.440305</td>\n    </tr>\n    <tr>\n      <th>1</th>\n      <td>SAMD11(ENSG00000187634).GENE.M1.001</td>\n      <td>1</td>\n      <td>925941</td>\n      <td>ref</td>\n      <td>M1.001</td>\n      <td>Phe10_F419__BIN</td>\n      <td>UKB_Freeze_450_EUR</td>\n      <td>ADD-WGR-FIRTH</td>\n      <td>1.436640</td>\n      <td>0.866632</td>\n      <td>2.38156</td>\n      <td>0.160048</td>\n      <td>0.000804</td>\n      <td>0.257887</td>\n    </tr>\n    <tr>\n      <th>2</th>\n      <td>SAMD11(ENSG00000187634).GENE.M1.01</td>\n      <td>1</td>\n      <td>925941</td>\n      <td>ref</td>\n      <td>M1.01</td>\n      <td>Phe10_F419__BIN</td>\n      <td>UKB_Freeze_450_EUR</td>\n      <td>ADD-WGR-FIRTH</td>\n      <td>1.364400</td>\n      <td>0.999524</td>\n      <td>1.86247</td>\n      <td>0.050352</td>\n      <td>0.001790</td>\n      <td>0.158774</td>\n    </tr>\n    <tr>\n      <th>3</th>\n      <td>SAMD11(ENSG00000187634).GENE.M1.1</td>\n      <td>1</td>\n      <td>925941</td>\n      <td>ref</td>\n      <td>M1.1</td>\n      <td>Phe10_F419__BIN</td>\n      <td>UKB_Freeze_450_EUR</td>\n      <td>ADD-WGR-FIRTH</td>\n      <td>1.070580</td>\n      <td>0.891329</td>\n      <td>1.28588</td>\n      <td>0.465712</td>\n      <td>0.007459</td>\n      <td>0.093493</td>\n    </tr>\n    <tr>\n      <th>4</th>\n      <td>SAMD11(ENSG00000187634).GENE.M1.singleton</td>\n      <td>1</td>\n      <td>925941</td>\n      <td>ref</td>\n      <td>M1.singleton</td>\n      <td>Phe10_F419__BIN</td>\n      <td>UKB_Freeze_450_EUR</td>\n      <td>ADD-WGR-FIRTH</td>\n      <td>1.606360</td>\n      <td>0.293426</td>\n      <td>8.79403</td>\n      <td>0.584778</td>\n      <td>0.000073</td>\n      <td>0.867415</td>\n    </tr>\n    <tr>\n      <th>...</th>\n      <td>...</td>\n      <td>...</td>\n      <td>...</td>\n      <td>...</td>\n      <td>...</td>\n      <td>...</td>\n      <td>...</td>\n      <td>...</td>\n      <td>...</td>\n      <td>...</td>\n      <td>...</td>\n      <td>...</td>\n      <td>...</td>\n      <td>...</td>\n    </tr>\n    <tr>\n      <th>185260</th>\n      <td>SPRY3(ENSG00000168939).GENE.M3.0001</td>\n      <td>23</td>\n      <td>155773871</td>\n      <td>ref</td>\n      <td>M3.0001</td>\n      <td>Phe10_F419__BIN</td>\n      <td>UKB_Freeze_450_EUR</td>\n      <td>ADD-WGR-FIRTH</td>\n      <td>0.358989</td>\n      <td>0.022484</td>\n      <td>5.73179</td>\n      <td>0.468606</td>\n      <td>0.000030</td>\n      <td>1.413540</td>\n    </tr>\n    <tr>\n      <th>185261</th>\n      <td>SPRY3(ENSG00000168939).GENE.M3.001</td>\n      <td>23</td>\n      <td>155773871</td>\n      <td>ref</td>\n      <td>M3.001</td>\n      <td>Phe10_F419__BIN</td>\n      <td>UKB_Freeze_450_EUR</td>\n      <td>ADD-WGR-FIRTH</td>\n      <td>1.182340</td>\n      <td>0.342287</td>\n      <td>4.08408</td>\n      <td>0.791139</td>\n      <td>0.000129</td>\n      <td>0.632461</td>\n    </tr>\n    <tr>\n      <th>185262</th>\n      <td>SPRY3(ENSG00000168939).GENE.M3.01</td>\n      <td>23</td>\n      <td>155773871</td>\n      <td>ref</td>\n      <td>M3.01</td>\n      <td>Phe10_F419__BIN</td>\n      <td>UKB_Freeze_450_EUR</td>\n      <td>ADD-WGR-FIRTH</td>\n      <td>1.182340</td>\n      <td>0.342287</td>\n      <td>4.08408</td>\n      <td>0.791139</td>\n      <td>0.000129</td>\n      <td>0.632461</td>\n    </tr>\n    <tr>\n      <th>185263</th>\n      <td>SPRY3(ENSG00000168939).GENE.M3.1</td>\n      <td>23</td>\n      <td>155773871</td>\n      <td>ref</td>\n      <td>M3.1</td>\n      <td>Phe10_F419__BIN</td>\n      <td>UKB_Freeze_450_EUR</td>\n      <td>ADD-WGR-FIRTH</td>\n      <td>1.182340</td>\n      <td>0.342287</td>\n      <td>4.08408</td>\n      <td>0.791139</td>\n      <td>0.000129</td>\n      <td>0.632461</td>\n    </tr>\n    <tr>\n      <th>185264</th>\n      <td>SPRY3(ENSG00000168939).GENE.M3.singleton</td>\n      <td>23</td>\n      <td>155773871</td>\n      <td>ref</td>\n      <td>M3.singleton</td>\n      <td>Phe10_F419__BIN</td>\n      <td>UKB_Freeze_450_EUR</td>\n      <td>ADD-WGR-FIRTH</td>\n      <td>0.359353</td>\n      <td>0.003691</td>\n      <td>34.98790</td>\n      <td>0.661297</td>\n      <td>0.000012</td>\n      <td>2.335990</td>\n    </tr>\n  </tbody>\n</table>\n<p>185265 rows × 14 columns</p>\n</div>"
     },
     "execution_count": 24,
     "metadata": {},
     "output_type": "execute_result"
    }
   ],
   "source": [
    "DFF = pd.read_csv(\"D:\\Documentos\\CUCEI\\Delfin\\GWAS\\Anxiety\\Phe10_F419__BIN.UKB_Freeze_450_EUR.WES.Burden.Results4GWAScatalog.tsv\",sep='\\t',on_bad_lines=\"warn\")\n",
    "DFF"
   ],
   "metadata": {
    "collapsed": false,
    "pycharm": {
     "name": "#%%\n"
    }
   }
  },
  {
   "cell_type": "code",
   "execution_count": null,
   "outputs": [],
   "source": [
    "import os\n",
    "os.mkdir(\"D:/Documentos/CUCEI//Delfin/GWAS/Anxiety/GCST90083797\")"
   ],
   "metadata": {
    "collapsed": false,
    "pycharm": {
     "name": "#%%\n",
     "is_executing": true
    }
   }
  },
  {
   "cell_type": "code",
   "execution_count": 28,
   "outputs": [],
   "source": [
    "for x in range(1,23,1):\n",
    "    data = DFF.loc[DFF[\"chromosome\"] == x]\n",
    "\n",
    "    path = \"D:\\Documentos\\CUCEI\\Delfin\\GWAS\\Anxiety\\GCST90083797\\GCST90083797_chr{}.tsv\".format(x)\n",
    "    data.to_csv(path,sep='\\t', index=False)\n"
   ],
   "metadata": {
    "collapsed": false,
    "pycharm": {
     "name": "#%%\n"
    }
   }
  },
  {
   "cell_type": "code",
   "execution_count": 33,
   "outputs": [
    {
     "data": {
      "text/plain": "                                          Name  chromosome  \\\n0         SAMD11(ENSG00000187634).GENE.M1.0001           1   \n1          SAMD11(ENSG00000187634).GENE.M1.001           1   \n2           SAMD11(ENSG00000187634).GENE.M1.01           1   \n3            SAMD11(ENSG00000187634).GENE.M1.1           1   \n4    SAMD11(ENSG00000187634).GENE.M1.singleton           1   \n..                                         ...         ...   \n730         TYMP(ENSG00000025708).GENE.M3.0001          22   \n731          TYMP(ENSG00000025708).GENE.M3.001          22   \n732           TYMP(ENSG00000025708).GENE.M3.01          22   \n733            TYMP(ENSG00000025708).GENE.M3.1          22   \n734    TYMP(ENSG00000025708).GENE.M3.singleton          22   \n\n     base_pair_location other_allele effect_allele            Trait  \\\n0                925941          ref       M1.0001  Phe10_F419__BIN   \n1                925941          ref        M1.001  Phe10_F419__BIN   \n2                925941          ref         M1.01  Phe10_F419__BIN   \n3                925941          ref          M1.1  Phe10_F419__BIN   \n4                925941          ref  M1.singleton  Phe10_F419__BIN   \n..                  ...          ...           ...              ...   \n730            50525769          ref       M3.0001  Phe10_F419__BIN   \n731            50525769          ref        M3.001  Phe10_F419__BIN   \n732            50525769          ref         M3.01  Phe10_F419__BIN   \n733            50525769          ref          M3.1  Phe10_F419__BIN   \n734            50525769          ref  M3.singleton  Phe10_F419__BIN   \n\n                 Cohort          Model  odds_ratio  ci_lower  ci_upper  \\\n0    UKB_Freeze_450_EUR  ADD-WGR-FIRTH    0.776267  0.327508   1.83992   \n1    UKB_Freeze_450_EUR  ADD-WGR-FIRTH    1.436640  0.866632   2.38156   \n2    UKB_Freeze_450_EUR  ADD-WGR-FIRTH    1.364400  0.999524   1.86247   \n3    UKB_Freeze_450_EUR  ADD-WGR-FIRTH    1.070580  0.891329   1.28588   \n4    UKB_Freeze_450_EUR  ADD-WGR-FIRTH    1.606360  0.293426   8.79403   \n..                  ...            ...         ...       ...       ...   \n730  UKB_Freeze_450_EUR  ADD-WGR-FIRTH    0.982536  0.439116   2.19846   \n731  UKB_Freeze_450_EUR  ADD-WGR-FIRTH    1.217720  0.707420   2.09613   \n732  UKB_Freeze_450_EUR  ADD-WGR-FIRTH    1.046400  0.755204   1.44988   \n733  UKB_Freeze_450_EUR  ADD-WGR-FIRTH    1.046400  0.755204   1.44988   \n734  UKB_Freeze_450_EUR  ADD-WGR-FIRTH    1.372050  0.275114   6.84266   \n\n      p_value  effect_allele_frequency  standard_error  seqnames       pos  \\\n0    0.565163                 0.000300        0.440305         1    925941   \n1    0.160048                 0.000804        0.257887         1    925941   \n2    0.050352                 0.001790        0.158774         1    925941   \n3    0.465712                 0.007459        0.093493         1    925941   \n4    0.584778                 0.000073        0.867415         1    925941   \n..        ...                      ...             ...       ...       ...   \n730  0.965800                 0.000332        0.410913        22  50525769   \n731  0.477172                 0.000732        0.277103        22  50525769   \n732  0.785167                 0.002002        0.166393        22  50525769   \n733  0.785167                 0.002002        0.166393        22  50525769   \n734  0.699640                 0.000082        0.819849        22  50525769   \n\n    strand    RefSNP_id alleles_as_ambig  \n0        *  rs772943808                Y  \n1        *  rs772943808                Y  \n2        *  rs772943808                Y  \n3        *  rs772943808                Y  \n4        *  rs772943808                Y  \n..     ...          ...              ...  \n730      *  rs745823472                Y  \n731      *  rs745823472                Y  \n732      *  rs745823472                Y  \n733      *  rs745823472                Y  \n734      *  rs745823472                Y  \n\n[28857 rows x 19 columns]",
      "text/html": "<div>\n<style scoped>\n    .dataframe tbody tr th:only-of-type {\n        vertical-align: middle;\n    }\n\n    .dataframe tbody tr th {\n        vertical-align: top;\n    }\n\n    .dataframe thead th {\n        text-align: right;\n    }\n</style>\n<table border=\"1\" class=\"dataframe\">\n  <thead>\n    <tr style=\"text-align: right;\">\n      <th></th>\n      <th>Name</th>\n      <th>chromosome</th>\n      <th>base_pair_location</th>\n      <th>other_allele</th>\n      <th>effect_allele</th>\n      <th>Trait</th>\n      <th>Cohort</th>\n      <th>Model</th>\n      <th>odds_ratio</th>\n      <th>ci_lower</th>\n      <th>ci_upper</th>\n      <th>p_value</th>\n      <th>effect_allele_frequency</th>\n      <th>standard_error</th>\n      <th>seqnames</th>\n      <th>pos</th>\n      <th>strand</th>\n      <th>RefSNP_id</th>\n      <th>alleles_as_ambig</th>\n    </tr>\n  </thead>\n  <tbody>\n    <tr>\n      <th>0</th>\n      <td>SAMD11(ENSG00000187634).GENE.M1.0001</td>\n      <td>1</td>\n      <td>925941</td>\n      <td>ref</td>\n      <td>M1.0001</td>\n      <td>Phe10_F419__BIN</td>\n      <td>UKB_Freeze_450_EUR</td>\n      <td>ADD-WGR-FIRTH</td>\n      <td>0.776267</td>\n      <td>0.327508</td>\n      <td>1.83992</td>\n      <td>0.565163</td>\n      <td>0.000300</td>\n      <td>0.440305</td>\n      <td>1</td>\n      <td>925941</td>\n      <td>*</td>\n      <td>rs772943808</td>\n      <td>Y</td>\n    </tr>\n    <tr>\n      <th>1</th>\n      <td>SAMD11(ENSG00000187634).GENE.M1.001</td>\n      <td>1</td>\n      <td>925941</td>\n      <td>ref</td>\n      <td>M1.001</td>\n      <td>Phe10_F419__BIN</td>\n      <td>UKB_Freeze_450_EUR</td>\n      <td>ADD-WGR-FIRTH</td>\n      <td>1.436640</td>\n      <td>0.866632</td>\n      <td>2.38156</td>\n      <td>0.160048</td>\n      <td>0.000804</td>\n      <td>0.257887</td>\n      <td>1</td>\n      <td>925941</td>\n      <td>*</td>\n      <td>rs772943808</td>\n      <td>Y</td>\n    </tr>\n    <tr>\n      <th>2</th>\n      <td>SAMD11(ENSG00000187634).GENE.M1.01</td>\n      <td>1</td>\n      <td>925941</td>\n      <td>ref</td>\n      <td>M1.01</td>\n      <td>Phe10_F419__BIN</td>\n      <td>UKB_Freeze_450_EUR</td>\n      <td>ADD-WGR-FIRTH</td>\n      <td>1.364400</td>\n      <td>0.999524</td>\n      <td>1.86247</td>\n      <td>0.050352</td>\n      <td>0.001790</td>\n      <td>0.158774</td>\n      <td>1</td>\n      <td>925941</td>\n      <td>*</td>\n      <td>rs772943808</td>\n      <td>Y</td>\n    </tr>\n    <tr>\n      <th>3</th>\n      <td>SAMD11(ENSG00000187634).GENE.M1.1</td>\n      <td>1</td>\n      <td>925941</td>\n      <td>ref</td>\n      <td>M1.1</td>\n      <td>Phe10_F419__BIN</td>\n      <td>UKB_Freeze_450_EUR</td>\n      <td>ADD-WGR-FIRTH</td>\n      <td>1.070580</td>\n      <td>0.891329</td>\n      <td>1.28588</td>\n      <td>0.465712</td>\n      <td>0.007459</td>\n      <td>0.093493</td>\n      <td>1</td>\n      <td>925941</td>\n      <td>*</td>\n      <td>rs772943808</td>\n      <td>Y</td>\n    </tr>\n    <tr>\n      <th>4</th>\n      <td>SAMD11(ENSG00000187634).GENE.M1.singleton</td>\n      <td>1</td>\n      <td>925941</td>\n      <td>ref</td>\n      <td>M1.singleton</td>\n      <td>Phe10_F419__BIN</td>\n      <td>UKB_Freeze_450_EUR</td>\n      <td>ADD-WGR-FIRTH</td>\n      <td>1.606360</td>\n      <td>0.293426</td>\n      <td>8.79403</td>\n      <td>0.584778</td>\n      <td>0.000073</td>\n      <td>0.867415</td>\n      <td>1</td>\n      <td>925941</td>\n      <td>*</td>\n      <td>rs772943808</td>\n      <td>Y</td>\n    </tr>\n    <tr>\n      <th>...</th>\n      <td>...</td>\n      <td>...</td>\n      <td>...</td>\n      <td>...</td>\n      <td>...</td>\n      <td>...</td>\n      <td>...</td>\n      <td>...</td>\n      <td>...</td>\n      <td>...</td>\n      <td>...</td>\n      <td>...</td>\n      <td>...</td>\n      <td>...</td>\n      <td>...</td>\n      <td>...</td>\n      <td>...</td>\n      <td>...</td>\n      <td>...</td>\n    </tr>\n    <tr>\n      <th>730</th>\n      <td>TYMP(ENSG00000025708).GENE.M3.0001</td>\n      <td>22</td>\n      <td>50525769</td>\n      <td>ref</td>\n      <td>M3.0001</td>\n      <td>Phe10_F419__BIN</td>\n      <td>UKB_Freeze_450_EUR</td>\n      <td>ADD-WGR-FIRTH</td>\n      <td>0.982536</td>\n      <td>0.439116</td>\n      <td>2.19846</td>\n      <td>0.965800</td>\n      <td>0.000332</td>\n      <td>0.410913</td>\n      <td>22</td>\n      <td>50525769</td>\n      <td>*</td>\n      <td>rs745823472</td>\n      <td>Y</td>\n    </tr>\n    <tr>\n      <th>731</th>\n      <td>TYMP(ENSG00000025708).GENE.M3.001</td>\n      <td>22</td>\n      <td>50525769</td>\n      <td>ref</td>\n      <td>M3.001</td>\n      <td>Phe10_F419__BIN</td>\n      <td>UKB_Freeze_450_EUR</td>\n      <td>ADD-WGR-FIRTH</td>\n      <td>1.217720</td>\n      <td>0.707420</td>\n      <td>2.09613</td>\n      <td>0.477172</td>\n      <td>0.000732</td>\n      <td>0.277103</td>\n      <td>22</td>\n      <td>50525769</td>\n      <td>*</td>\n      <td>rs745823472</td>\n      <td>Y</td>\n    </tr>\n    <tr>\n      <th>732</th>\n      <td>TYMP(ENSG00000025708).GENE.M3.01</td>\n      <td>22</td>\n      <td>50525769</td>\n      <td>ref</td>\n      <td>M3.01</td>\n      <td>Phe10_F419__BIN</td>\n      <td>UKB_Freeze_450_EUR</td>\n      <td>ADD-WGR-FIRTH</td>\n      <td>1.046400</td>\n      <td>0.755204</td>\n      <td>1.44988</td>\n      <td>0.785167</td>\n      <td>0.002002</td>\n      <td>0.166393</td>\n      <td>22</td>\n      <td>50525769</td>\n      <td>*</td>\n      <td>rs745823472</td>\n      <td>Y</td>\n    </tr>\n    <tr>\n      <th>733</th>\n      <td>TYMP(ENSG00000025708).GENE.M3.1</td>\n      <td>22</td>\n      <td>50525769</td>\n      <td>ref</td>\n      <td>M3.1</td>\n      <td>Phe10_F419__BIN</td>\n      <td>UKB_Freeze_450_EUR</td>\n      <td>ADD-WGR-FIRTH</td>\n      <td>1.046400</td>\n      <td>0.755204</td>\n      <td>1.44988</td>\n      <td>0.785167</td>\n      <td>0.002002</td>\n      <td>0.166393</td>\n      <td>22</td>\n      <td>50525769</td>\n      <td>*</td>\n      <td>rs745823472</td>\n      <td>Y</td>\n    </tr>\n    <tr>\n      <th>734</th>\n      <td>TYMP(ENSG00000025708).GENE.M3.singleton</td>\n      <td>22</td>\n      <td>50525769</td>\n      <td>ref</td>\n      <td>M3.singleton</td>\n      <td>Phe10_F419__BIN</td>\n      <td>UKB_Freeze_450_EUR</td>\n      <td>ADD-WGR-FIRTH</td>\n      <td>1.372050</td>\n      <td>0.275114</td>\n      <td>6.84266</td>\n      <td>0.699640</td>\n      <td>0.000082</td>\n      <td>0.819849</td>\n      <td>22</td>\n      <td>50525769</td>\n      <td>*</td>\n      <td>rs745823472</td>\n      <td>Y</td>\n    </tr>\n  </tbody>\n</table>\n<p>28857 rows × 19 columns</p>\n</div>"
     },
     "execution_count": 33,
     "metadata": {},
     "output_type": "execute_result"
    }
   ],
   "source": [
    "tempdf = pd.DataFrame()\n",
    "for i in range(1,23,1):\n",
    "    path = \"D:/Documentos/CUCEI/Delfin/GWAS/Anxiety/Processed/GCST90083797/rsID/GCST90083797_chr{}_rsID.tsv\".format(i)\n",
    "    info = pd.read_csv(path,sep=\"\\t\")\n",
    "    tempdf = pd.concat([tempdf,info])\n",
    "tempdf"
   ],
   "metadata": {
    "collapsed": false,
    "pycharm": {
     "name": "#%%\n"
    }
   }
  },
  {
   "cell_type": "code",
   "execution_count": 39,
   "outputs": [],
   "source": [
    "TempDF=pd.read_csv(\"D:\\Documentos\\CUCEI\\Delfin\\GWAS\\Anxiety\\Processed\\GCST90078639_sig_P_rsID.tsv\", sep='\\t')"
   ],
   "metadata": {
    "collapsed": false,
    "pycharm": {
     "name": "#%%\n"
    }
   }
  },
  {
   "cell_type": "code",
   "execution_count": 40,
   "outputs": [],
   "source": [
    "sigDF = TempDF.nsmallest(100,\"p_value\")"
   ],
   "metadata": {
    "collapsed": false,
    "pycharm": {
     "name": "#%%\n"
    }
   }
  },
  {
   "cell_type": "code",
   "execution_count": 41,
   "outputs": [
    {
     "data": {
      "text/plain": "                                           Name  chromosome  \\\n870          TFR2(ENSG00000106327).GENE.M3.0001           7   \n581        SLC4A9(ENSG00000113073).GENE.M3.0001           5   \n154   HMGCS1(ENSG00000112972).GENE.M1.singleton           5   \n715         MMP16(ENSG00000156103).GENE.M3.0001           8   \n1141         CTSW(ENSG00000172543).GENE.M3.0001          11   \n...                                         ...         ...   \n125         TAX1BP3(ENSG00000213977).GENE.M3.01          17   \n126          TAX1BP3(ENSG00000213977).GENE.M3.1          17   \n1514         KCNJ2(ENSG00000123700).GENE.M3.001          17   \n1515          KCNJ2(ENSG00000123700).GENE.M3.01          17   \n1516           KCNJ2(ENSG00000123700).GENE.M3.1          17   \n\n      base_pair_location other_allele effect_allele            Trait  \\\n870            100620856          ref       M3.0001  Phe10_F419__BIN   \n581            140360236          ref       M3.0001  Phe10_F419__BIN   \n154             43291130          ref  M1.singleton  Phe10_F419__BIN   \n715             88041460          ref       M3.0001  Phe10_F419__BIN   \n1141            65879854          ref       M3.0001  Phe10_F419__BIN   \n...                  ...          ...           ...              ...   \n125              3663747          ref         M3.01  Phe10_F419__BIN   \n126              3663747          ref          M3.1  Phe10_F419__BIN   \n1514            70175039          ref        M3.001  Phe10_F419__BIN   \n1515            70175039          ref         M3.01  Phe10_F419__BIN   \n1516            70175039          ref          M3.1  Phe10_F419__BIN   \n\n                  Cohort          Model  odds_ratio  ci_lower   ci_upper  \\\n870   UKB_Freeze_450_EUR  ADD-WGR-FIRTH     2.73789   1.65320    4.53427   \n581   UKB_Freeze_450_EUR  ADD-WGR-FIRTH     2.40272   1.52500    3.78563   \n154   UKB_Freeze_450_EUR  ADD-WGR-FIRTH    22.55590   4.26801  119.20500   \n715   UKB_Freeze_450_EUR  ADD-WGR-FIRTH     3.37367   1.74908    6.50720   \n1141  UKB_Freeze_450_EUR  ADD-WGR-FIRTH     4.04817   1.88615    8.68843   \n...                  ...            ...         ...       ...        ...   \n125   UKB_Freeze_450_EUR  ADD-WGR-FIRTH    17.14970   2.55853  114.95400   \n126   UKB_Freeze_450_EUR  ADD-WGR-FIRTH    17.14970   2.55853  114.95400   \n1514  UKB_Freeze_450_EUR  ADD-WGR-FIRTH     2.55271   1.36023    4.79063   \n1515  UKB_Freeze_450_EUR  ADD-WGR-FIRTH     2.55271   1.36023    4.79063   \n1516  UKB_Freeze_450_EUR  ADD-WGR-FIRTH     2.55271   1.36023    4.79063   \n\n       p_value  effect_allele_frequency  standard_error  seqnames        pos  \\\n870   0.000091                 0.000433        0.257390         7  100620856   \n581   0.000157                 0.000570        0.231948         5  140360236   \n154   0.000244                 0.000012        0.849429         5   43291130   \n715   0.000286                 0.000220        0.335164         8   88041460   \n1141  0.000333                 0.000158        0.389664        11   65879854   \n...        ...                      ...             ...       ...        ...   \n125   0.003414                 0.000009        0.970706        17    3663747   \n126   0.003414                 0.000009        0.970706        17    3663747   \n1514  0.003525                 0.000294        0.321182        17   70175039   \n1515  0.003525                 0.000294        0.321182        17   70175039   \n1516  0.003525                 0.000294        0.321182        17   70175039   \n\n     strand    RefSNP_id alleles_as_ambig  \n870       *  rs763463474                S  \n581       *  rs781107125                Y  \n154       *  rs749894583                Y  \n715       *  rs766855414                R  \n1141      *   rs75558232                Y  \n...     ...          ...              ...  \n125       *  rs754539319                K  \n126       *  rs754539319                K  \n1514      *  rs561773121                D  \n1515      *  rs561773121                D  \n1516      *  rs561773121                D  \n\n[100 rows x 19 columns]",
      "text/html": "<div>\n<style scoped>\n    .dataframe tbody tr th:only-of-type {\n        vertical-align: middle;\n    }\n\n    .dataframe tbody tr th {\n        vertical-align: top;\n    }\n\n    .dataframe thead th {\n        text-align: right;\n    }\n</style>\n<table border=\"1\" class=\"dataframe\">\n  <thead>\n    <tr style=\"text-align: right;\">\n      <th></th>\n      <th>Name</th>\n      <th>chromosome</th>\n      <th>base_pair_location</th>\n      <th>other_allele</th>\n      <th>effect_allele</th>\n      <th>Trait</th>\n      <th>Cohort</th>\n      <th>Model</th>\n      <th>odds_ratio</th>\n      <th>ci_lower</th>\n      <th>ci_upper</th>\n      <th>p_value</th>\n      <th>effect_allele_frequency</th>\n      <th>standard_error</th>\n      <th>seqnames</th>\n      <th>pos</th>\n      <th>strand</th>\n      <th>RefSNP_id</th>\n      <th>alleles_as_ambig</th>\n    </tr>\n  </thead>\n  <tbody>\n    <tr>\n      <th>870</th>\n      <td>TFR2(ENSG00000106327).GENE.M3.0001</td>\n      <td>7</td>\n      <td>100620856</td>\n      <td>ref</td>\n      <td>M3.0001</td>\n      <td>Phe10_F419__BIN</td>\n      <td>UKB_Freeze_450_EUR</td>\n      <td>ADD-WGR-FIRTH</td>\n      <td>2.73789</td>\n      <td>1.65320</td>\n      <td>4.53427</td>\n      <td>0.000091</td>\n      <td>0.000433</td>\n      <td>0.257390</td>\n      <td>7</td>\n      <td>100620856</td>\n      <td>*</td>\n      <td>rs763463474</td>\n      <td>S</td>\n    </tr>\n    <tr>\n      <th>581</th>\n      <td>SLC4A9(ENSG00000113073).GENE.M3.0001</td>\n      <td>5</td>\n      <td>140360236</td>\n      <td>ref</td>\n      <td>M3.0001</td>\n      <td>Phe10_F419__BIN</td>\n      <td>UKB_Freeze_450_EUR</td>\n      <td>ADD-WGR-FIRTH</td>\n      <td>2.40272</td>\n      <td>1.52500</td>\n      <td>3.78563</td>\n      <td>0.000157</td>\n      <td>0.000570</td>\n      <td>0.231948</td>\n      <td>5</td>\n      <td>140360236</td>\n      <td>*</td>\n      <td>rs781107125</td>\n      <td>Y</td>\n    </tr>\n    <tr>\n      <th>154</th>\n      <td>HMGCS1(ENSG00000112972).GENE.M1.singleton</td>\n      <td>5</td>\n      <td>43291130</td>\n      <td>ref</td>\n      <td>M1.singleton</td>\n      <td>Phe10_F419__BIN</td>\n      <td>UKB_Freeze_450_EUR</td>\n      <td>ADD-WGR-FIRTH</td>\n      <td>22.55590</td>\n      <td>4.26801</td>\n      <td>119.20500</td>\n      <td>0.000244</td>\n      <td>0.000012</td>\n      <td>0.849429</td>\n      <td>5</td>\n      <td>43291130</td>\n      <td>*</td>\n      <td>rs749894583</td>\n      <td>Y</td>\n    </tr>\n    <tr>\n      <th>715</th>\n      <td>MMP16(ENSG00000156103).GENE.M3.0001</td>\n      <td>8</td>\n      <td>88041460</td>\n      <td>ref</td>\n      <td>M3.0001</td>\n      <td>Phe10_F419__BIN</td>\n      <td>UKB_Freeze_450_EUR</td>\n      <td>ADD-WGR-FIRTH</td>\n      <td>3.37367</td>\n      <td>1.74908</td>\n      <td>6.50720</td>\n      <td>0.000286</td>\n      <td>0.000220</td>\n      <td>0.335164</td>\n      <td>8</td>\n      <td>88041460</td>\n      <td>*</td>\n      <td>rs766855414</td>\n      <td>R</td>\n    </tr>\n    <tr>\n      <th>1141</th>\n      <td>CTSW(ENSG00000172543).GENE.M3.0001</td>\n      <td>11</td>\n      <td>65879854</td>\n      <td>ref</td>\n      <td>M3.0001</td>\n      <td>Phe10_F419__BIN</td>\n      <td>UKB_Freeze_450_EUR</td>\n      <td>ADD-WGR-FIRTH</td>\n      <td>4.04817</td>\n      <td>1.88615</td>\n      <td>8.68843</td>\n      <td>0.000333</td>\n      <td>0.000158</td>\n      <td>0.389664</td>\n      <td>11</td>\n      <td>65879854</td>\n      <td>*</td>\n      <td>rs75558232</td>\n      <td>Y</td>\n    </tr>\n    <tr>\n      <th>...</th>\n      <td>...</td>\n      <td>...</td>\n      <td>...</td>\n      <td>...</td>\n      <td>...</td>\n      <td>...</td>\n      <td>...</td>\n      <td>...</td>\n      <td>...</td>\n      <td>...</td>\n      <td>...</td>\n      <td>...</td>\n      <td>...</td>\n      <td>...</td>\n      <td>...</td>\n      <td>...</td>\n      <td>...</td>\n      <td>...</td>\n      <td>...</td>\n    </tr>\n    <tr>\n      <th>125</th>\n      <td>TAX1BP3(ENSG00000213977).GENE.M3.01</td>\n      <td>17</td>\n      <td>3663747</td>\n      <td>ref</td>\n      <td>M3.01</td>\n      <td>Phe10_F419__BIN</td>\n      <td>UKB_Freeze_450_EUR</td>\n      <td>ADD-WGR-FIRTH</td>\n      <td>17.14970</td>\n      <td>2.55853</td>\n      <td>114.95400</td>\n      <td>0.003414</td>\n      <td>0.000009</td>\n      <td>0.970706</td>\n      <td>17</td>\n      <td>3663747</td>\n      <td>*</td>\n      <td>rs754539319</td>\n      <td>K</td>\n    </tr>\n    <tr>\n      <th>126</th>\n      <td>TAX1BP3(ENSG00000213977).GENE.M3.1</td>\n      <td>17</td>\n      <td>3663747</td>\n      <td>ref</td>\n      <td>M3.1</td>\n      <td>Phe10_F419__BIN</td>\n      <td>UKB_Freeze_450_EUR</td>\n      <td>ADD-WGR-FIRTH</td>\n      <td>17.14970</td>\n      <td>2.55853</td>\n      <td>114.95400</td>\n      <td>0.003414</td>\n      <td>0.000009</td>\n      <td>0.970706</td>\n      <td>17</td>\n      <td>3663747</td>\n      <td>*</td>\n      <td>rs754539319</td>\n      <td>K</td>\n    </tr>\n    <tr>\n      <th>1514</th>\n      <td>KCNJ2(ENSG00000123700).GENE.M3.001</td>\n      <td>17</td>\n      <td>70175039</td>\n      <td>ref</td>\n      <td>M3.001</td>\n      <td>Phe10_F419__BIN</td>\n      <td>UKB_Freeze_450_EUR</td>\n      <td>ADD-WGR-FIRTH</td>\n      <td>2.55271</td>\n      <td>1.36023</td>\n      <td>4.79063</td>\n      <td>0.003525</td>\n      <td>0.000294</td>\n      <td>0.321182</td>\n      <td>17</td>\n      <td>70175039</td>\n      <td>*</td>\n      <td>rs561773121</td>\n      <td>D</td>\n    </tr>\n    <tr>\n      <th>1515</th>\n      <td>KCNJ2(ENSG00000123700).GENE.M3.01</td>\n      <td>17</td>\n      <td>70175039</td>\n      <td>ref</td>\n      <td>M3.01</td>\n      <td>Phe10_F419__BIN</td>\n      <td>UKB_Freeze_450_EUR</td>\n      <td>ADD-WGR-FIRTH</td>\n      <td>2.55271</td>\n      <td>1.36023</td>\n      <td>4.79063</td>\n      <td>0.003525</td>\n      <td>0.000294</td>\n      <td>0.321182</td>\n      <td>17</td>\n      <td>70175039</td>\n      <td>*</td>\n      <td>rs561773121</td>\n      <td>D</td>\n    </tr>\n    <tr>\n      <th>1516</th>\n      <td>KCNJ2(ENSG00000123700).GENE.M3.1</td>\n      <td>17</td>\n      <td>70175039</td>\n      <td>ref</td>\n      <td>M3.1</td>\n      <td>Phe10_F419__BIN</td>\n      <td>UKB_Freeze_450_EUR</td>\n      <td>ADD-WGR-FIRTH</td>\n      <td>2.55271</td>\n      <td>1.36023</td>\n      <td>4.79063</td>\n      <td>0.003525</td>\n      <td>0.000294</td>\n      <td>0.321182</td>\n      <td>17</td>\n      <td>70175039</td>\n      <td>*</td>\n      <td>rs561773121</td>\n      <td>D</td>\n    </tr>\n  </tbody>\n</table>\n<p>100 rows × 19 columns</p>\n</div>"
     },
     "execution_count": 41,
     "metadata": {},
     "output_type": "execute_result"
    }
   ],
   "source": [
    "sigDF"
   ],
   "metadata": {
    "collapsed": false,
    "pycharm": {
     "name": "#%%\n"
    }
   }
  },
  {
   "cell_type": "code",
   "execution_count": 42,
   "outputs": [],
   "source": [
    "sigDF[[\"RefSNP_id\",\"Name\",\"chromosome\",\"base_pair_location\",\"effect_allele\",\"other_allele\",\"p_value\",\"odds_ratio\",\"standard_error\"]].to_csv(\"D:/Documentos/cuCEI/Delfin/GWAS/Anxiety/Processed/GCST90078639_sig_P_rsID.tsv\", sep=\"\\t\",index=False)"
   ],
   "metadata": {
    "collapsed": false,
    "pycharm": {
     "name": "#%%\"\n"
    }
   }
  },
  {
   "cell_type": "code",
   "execution_count": null,
   "outputs": [],
   "source": [],
   "metadata": {
    "collapsed": false,
    "pycharm": {
     "name": "#%%\n"
    }
   }
  }
 ],
 "metadata": {
  "kernelspec": {
   "display_name": "Python 3",
   "language": "python",
   "name": "python3"
  },
  "language_info": {
   "codemirror_mode": {
    "name": "ipython",
    "version": 2
   },
   "file_extension": ".py",
   "mimetype": "text/x-python",
   "name": "python",
   "nbconvert_exporter": "python",
   "pygments_lexer": "ipython2",
   "version": "2.7.6"
  }
 },
 "nbformat": 4,
 "nbformat_minor": 0
}